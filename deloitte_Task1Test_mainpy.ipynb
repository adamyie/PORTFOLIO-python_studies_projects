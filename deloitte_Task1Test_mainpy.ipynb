{
  "nbformat": 4,
  "nbformat_minor": 0,
  "metadata": {
    "colab": {
      "provenance": [],
      "authorship_tag": "ABX9TyNJpR23o29JzI8VDTdKBc3s",
      "include_colab_link": true
    },
    "kernelspec": {
      "name": "python3",
      "display_name": "Python 3"
    },
    "language_info": {
      "name": "python"
    }
  },
  "cells": [
    {
      "cell_type": "markdown",
      "metadata": {
        "id": "view-in-github",
        "colab_type": "text"
      },
      "source": [
        "<a href=\"https://colab.research.google.com/github/adamyie/python_studies/blob/main/deloitte_Task1Test_mainpy.ipynb\" target=\"_parent\"><img src=\"https://colab.research.google.com/assets/colab-badge.svg\" alt=\"Open In Colab\"/></a>"
      ]
    },
    {
      "cell_type": "code",
      "source": [
        "import json, unittest, datetime\n",
        "\n",
        "with open(\"./data-1.json\",\"r\") as f:\n",
        "    jsonData1 = json.load(f)\n",
        "with open(\"./data-2.json\",\"r\") as f:\n",
        "    jsonData2 = json.load(f)\n",
        "with open(\"./data-result.json\",\"r\") as f:\n",
        "    jsonExpectedResult = json.load(f)"
      ],
      "metadata": {
        "id": "o-p548-Nzv_R"
      },
      "execution_count": null,
      "outputs": []
    },
    {
      "cell_type": "code",
      "execution_count": null,
      "metadata": {
        "id": "q4WgefcKuQEt"
      },
      "outputs": [],
      "source": [
        "def convertFromFormat1 (jsonObject):\n",
        "  # Converts jsonObject that has the correct time format, but location format\n",
        "\n",
        "  # Refer split objects from location variable into a new variable\n",
        "  location_parts = jsonObject.get('location', '').split('/')\n",
        "\n",
        "  # Create a separate dict to dimensionalise location data in a new dict\n",
        "  location_dict = {\n",
        "      \"country\": location_parts[0] if len(location_parts) > 0 else None,\n",
        "      \"city\": location_parts[1] if len(location_parts) > 1 else None,\n",
        "      \"area\": location_parts[2] if len(location_parts) > 2 else None,\n",
        "      \"factory\": location_parts[3] if len(location_parts) > 3 else None,\n",
        "      \"section\": location_parts[4] if len(location_parts) > 4 else None\n",
        "  }\n",
        "\n",
        "  # Create a separate dict to dimensionalise status data in a new dict\n",
        "  data_dict = {\n",
        "      \"status\": jsonObject.get('operationStatus'),\n",
        "      \"temperature\": jsonObject.get('temp')\n",
        "  }\n",
        "\n",
        "  # Generate a dict to output the converted object into the 2-dimension format\n",
        "  jsonObject_converted = {\n",
        "      \"deviceID\": jsonObject.get('deviceID'),\n",
        "      \"deviceType\": jsonObject.get('deviceType'),\n",
        "      \"timestamp\": jsonObject.get('timestamp'),\n",
        "      \"location\": location_dict,\n",
        "      \"data\": data_dict\n",
        "  }\n",
        "\n",
        "  return jsonObject_converted"
      ]
    },
    {
      "cell_type": "code",
      "source": [],
      "metadata": {
        "id": "n_lTJep-f9se"
      },
      "execution_count": null,
      "outputs": []
    },
    {
      "cell_type": "code",
      "execution_count": null,
      "metadata": {
        "id": "F6aL88ZdrJ5z"
      },
      "outputs": [],
      "source": [
        "def convertFromFormat2 (jsonObject):\n",
        "  # Converts to a newer format to both unmerge and merge some variable\n",
        "  location_dict = {\n",
        "    \"country\": jsonObject[\"country\"],\n",
        "    \"city\": jsonObject[\"city\"],\n",
        "    \"area\": jsonObject[\"area\"],\n",
        "    \"factory\": jsonObject[\"factory\"],\n",
        "    \"section\": jsonObject[\"section\"]\n",
        "  }\n",
        "\n",
        "  # Generate a dict to output the converted object into the 2-dimension format\n",
        "  jsonObject_converted = {\n",
        "      \"deviceID\": jsonObject[\"device\"].get('id'),\n",
        "      \"deviceType\": jsonObject[\"device\"].get('type'),\n",
        "      \"timestamp\": jsonObject.get('timestamp'),\n",
        "      \"location\": location_dict,\n",
        "      \"data\": jsonObject.get('data')\n",
        "  }\n",
        "\n",
        "  # Convert timestamp to milliseconds if timestamp is still in datetime format\n",
        "  if isinstance(jsonObject_converted.get(\"timestamp\"), int):\n",
        "    # Conversion is not applicable since it's already an integer\n",
        "    return jsonObject_converted\n",
        "  else:\n",
        "    time_string = jsonObject_converted.get(\"timestamp\")\n",
        "    if time_string:\n",
        "      try:\n",
        "        # Attempt to parse the time string (assuming a specific format)\n",
        "        datetime_object = datetime.datetime.strptime(time_string, '%Y-%m-%dT%H:%M:%S.%fZ')\n",
        "        # Convert to timestamp (in milliseconds)\n",
        "        timestamp_converted = int((datetime_object - datetime.datetime(1970, 1, 1)).total_seconds()*1000)\n",
        "        jsonObject_converted[\"timestamp\"] = timestamp_converted\n",
        "      except ValueError:\n",
        "        # Handle cases where the time string format doesn't match\n",
        "        print(\"Invalid time string format. Expected format: '%Y-%m-%d %H:%M:%S'\")\n",
        "    return jsonObject_converted"
      ]
    },
    {
      "cell_type": "code",
      "source": [
        "jsonObject = convertFromFormat2 (jsonData2)\n",
        "jsonObject"
      ],
      "metadata": {
        "colab": {
          "base_uri": "https://localhost:8080/"
        },
        "id": "JuFpeiWTf81o",
        "outputId": "6009a394-127c-4b34-dccb-f9dc6c648a19"
      },
      "execution_count": null,
      "outputs": [
        {
          "output_type": "execute_result",
          "data": {
            "text/plain": [
              "{'deviceID': 'dh28dslkja',\n",
              " 'deviceType': 'LaserCutter',\n",
              " 'timestamp': 1624445837783,\n",
              " 'location': {'country': 'japan',\n",
              "  'city': 'tokyo',\n",
              "  'area': 'keiyō-industrial-zone',\n",
              "  'factory': 'daikibo-factory-meiyo',\n",
              "  'section': 'section-1'},\n",
              " 'data': {'status': 'healthy', 'temperature': 22}}"
            ]
          },
          "metadata": {},
          "execution_count": 7
        }
      ]
    },
    {
      "cell_type": "code",
      "source": [
        "\n",
        "def main (jsonObject):\n",
        "\n",
        "    result = {}\n",
        "\n",
        "    if (jsonObject.get('device') == None):\n",
        "        result = convertFromFormat1(jsonObject)\n",
        "    else:\n",
        "        result = convertFromFormat2(jsonObject)\n",
        "\n",
        "    return result"
      ],
      "metadata": {
        "id": "qyilfMez0DUC"
      },
      "execution_count": null,
      "outputs": []
    },
    {
      "cell_type": "code",
      "source": [
        "class TestSolution(unittest.TestCase):\n",
        "\n",
        "    def test_sanity(self):\n",
        "\n",
        "        result = json.loads(json.dumps(jsonExpectedResult))\n",
        "        self.assertEqual(\n",
        "            result,\n",
        "            jsonExpectedResult\n",
        "        )\n",
        "\n",
        "    def test_dataType1(self):\n",
        "\n",
        "        result = main (jsonData1)\n",
        "        self.assertEqual(\n",
        "            result,\n",
        "            jsonExpectedResult,\n",
        "            'Converting from Type 1 failed'\n",
        "        )\n",
        "\n",
        "    def test_dataType2(self):\n",
        "\n",
        "        result = main (jsonData2)\n",
        "        self.assertEqual(\n",
        "            result,\n",
        "            jsonExpectedResult,\n",
        "            'Converting from Type 2 failed'\n",
        "        )"
      ],
      "metadata": {
        "id": "BKYdxhyD0HCp"
      },
      "execution_count": null,
      "outputs": []
    },
    {
      "cell_type": "code",
      "source": [
        "if __name__ == '__main__':\n",
        "    unittest.main()"
      ],
      "metadata": {
        "id": "CEowqas5ATJP",
        "colab": {
          "base_uri": "https://localhost:8080/",
          "height": 317
        },
        "outputId": "08e90e92-dcda-47af-fc41-6ba9af1264c9"
      },
      "execution_count": null,
      "outputs": [
        {
          "output_type": "stream",
          "name": "stderr",
          "text": [
            "E\n",
            "======================================================================\n",
            "ERROR: /root/ (unittest.loader._FailedTest)\n",
            "----------------------------------------------------------------------\n",
            "AttributeError: module '__main__' has no attribute '/root/'\n",
            "\n",
            "----------------------------------------------------------------------\n",
            "Ran 1 test in 0.003s\n",
            "\n",
            "FAILED (errors=1)\n"
          ]
        },
        {
          "output_type": "error",
          "ename": "SystemExit",
          "evalue": "True",
          "traceback": [
            "An exception has occurred, use %tb to see the full traceback.\n",
            "\u001b[0;31mSystemExit\u001b[0m\u001b[0;31m:\u001b[0m True\n"
          ]
        },
        {
          "output_type": "stream",
          "name": "stderr",
          "text": [
            "/usr/local/lib/python3.10/dist-packages/IPython/core/interactiveshell.py:3561: UserWarning: To exit: use 'exit', 'quit', or Ctrl-D.\n",
            "  warn(\"To exit: use 'exit', 'quit', or Ctrl-D.\", stacklevel=1)\n"
          ]
        }
      ]
    },
    {
      "cell_type": "markdown",
      "source": [
        "## **CODE TESTING SPACE**"
      ],
      "metadata": {
        "id": "PIGwK0c8AjqL"
      }
    },
    {
      "cell_type": "code",
      "source": [
        "import json, unittest, datetime\n",
        "\n",
        "with open(\"./data-1.json\",\"r\") as f:\n",
        "    jsonData1 = json.load(f)\n",
        "with open(\"./data-2.json\",\"r\") as f:\n",
        "    jsonData2 = json.load(f)\n",
        "with open(\"./data-result.json\",\"r\") as f:\n",
        "    jsonExpectedResult = json.load(f)\n",
        "\n",
        "def convertFromFormat1 (jsonObject):\n",
        "  # Converts jsonObject that has the correct time format, but location format\n",
        "\n",
        "  # Refer split objects from location variable into a new variable\n",
        "  location_parts = jsonObject.get('location', '').split('/')\n",
        "\n",
        "  # Create a separate dict to dimensionalise location data in a new dict\n",
        "  location_dict = {\n",
        "      \"country\": location_parts[0] if len(location_parts) > 0 else None,\n",
        "      \"city\": location_parts[1] if len(location_parts) > 1 else None,\n",
        "      \"area\": location_parts[2] if len(location_parts) > 2 else None,\n",
        "      \"factory\": location_parts[3] if len(location_parts) > 3 else None,\n",
        "      \"section\": location_parts[4] if len(location_parts) > 4 else None\n",
        "  }\n",
        "\n",
        "  # Create a separate dict to dimensionalise status data in a new dict\n",
        "  data_dict = {\n",
        "      \"status\": jsonObject.get('operationStatus'),\n",
        "      \"temperature\": jsonObject.get('temp')\n",
        "  }\n",
        "\n",
        "  # Generate a dict to output the converted object into the 2-dimension format\n",
        "  jsonObject_converted = {\n",
        "      \"deviceID\": jsonObject.get('deviceID'),\n",
        "      \"deviceType\": jsonObject.get('deviceType'),\n",
        "      \"timestamp\": jsonObject.get('timestamp'),\n",
        "      \"location\": location_dict,\n",
        "      \"data\": data_dict\n",
        "  }\n",
        "\n",
        "  return jsonObject_converted\n",
        "\n",
        "def convertFromFormat2 (jsonObject):\n",
        "  # Converts to a newer format to both unmerge and merge some variable\n",
        "  location_dict = {\n",
        "    \"country\": jsonObject[\"country\"],\n",
        "    \"city\": jsonObject[\"city\"],\n",
        "    \"area\": jsonObject[\"area\"],\n",
        "    \"factory\": jsonObject[\"factory\"],\n",
        "    \"section\": jsonObject[\"section\"]\n",
        "  }\n",
        "\n",
        "  # Generate a dict to output the converted object into the 2-dimension format\n",
        "  jsonObject_converted = {\n",
        "      \"deviceID\": jsonObject[\"device\"].get('id'),\n",
        "      \"deviceType\": jsonObject[\"device\"].get('type'),\n",
        "      \"timestamp\": jsonObject.get('timestamp'),\n",
        "      \"location\": location_dict,\n",
        "      \"data\": jsonObject.get('data')\n",
        "  }\n",
        "\n",
        "  # Convert timestamp to milliseconds if timestamp is still in datetime format\n",
        "  if isinstance(jsonObject_converted.get(\"timestamp\"), int):\n",
        "    # Conversion is not applicable since it's already an integer\n",
        "    return jsonObject_converted\n",
        "  else:\n",
        "    time_string = jsonObject_converted.get(\"timestamp\")\n",
        "    if time_string:\n",
        "      try:\n",
        "        # Attempt to parse the time string (assuming a specific format)\n",
        "        datetime_object = datetime.datetime.strptime(time_string, '%Y-%m-%dT%H:%M:%S.%fZ')\n",
        "        # Convert to timestamp (in milliseconds)\n",
        "        timestamp_converted = int((datetime_object - datetime.datetime(1970, 1, 1)).total_seconds()*1000)\n",
        "        jsonObject_converted[\"timestamp\"] = timestamp_converted\n",
        "      except ValueError:\n",
        "        # Handle cases where the time string format doesn't match\n",
        "        print(\"Invalid time string format. Expected format: '%Y-%m-%d %H:%M:%S'\")\n",
        "    return jsonObject_converted\n",
        "\n",
        "\n",
        "def main (jsonObject):\n",
        "\n",
        "    result = {}\n",
        "\n",
        "    if (jsonObject.get('device') == None):\n",
        "        result = convertFromFormat1(jsonObject)\n",
        "    else:\n",
        "        result = convertFromFormat2(jsonObject)\n",
        "\n",
        "    return result\n",
        "\n",
        "class TestSolution(unittest.TestCase):\n",
        "\n",
        "    def test_sanity(self):\n",
        "\n",
        "        result = json.loads(json.dumps(jsonExpectedResult))\n",
        "        self.assertEqual(\n",
        "            result,\n",
        "            jsonExpectedResult\n",
        "        )\n",
        "\n",
        "    def test_dataType1(self):\n",
        "\n",
        "        result = main (jsonData1)\n",
        "        self.assertEqual(\n",
        "            result,\n",
        "            jsonExpectedResult,\n",
        "            'Converting from Type 1 failed'\n",
        "        )\n",
        "\n",
        "    def test_dataType2(self):\n",
        "\n",
        "        result = main (jsonData2)\n",
        "        self.assertEqual(\n",
        "            result,\n",
        "            jsonExpectedResult,\n",
        "            'Converting from Type 2 failed'\n",
        "        )\n",
        "\n",
        "if __name__ == '__main__':\n",
        "    unittest.main()"
      ],
      "metadata": {
        "id": "jaYd7v1cAiZ5",
        "colab": {
          "base_uri": "https://localhost:8080/",
          "height": 317
        },
        "outputId": "b4cd5cfe-3da1-4b28-e802-6a3e8f7af6b8"
      },
      "execution_count": null,
      "outputs": [
        {
          "output_type": "stream",
          "name": "stderr",
          "text": [
            "E\n",
            "======================================================================\n",
            "ERROR: /root/ (unittest.loader._FailedTest)\n",
            "----------------------------------------------------------------------\n",
            "AttributeError: module '__main__' has no attribute '/root/'\n",
            "\n",
            "----------------------------------------------------------------------\n",
            "Ran 1 test in 0.003s\n",
            "\n",
            "FAILED (errors=1)\n"
          ]
        },
        {
          "output_type": "error",
          "ename": "SystemExit",
          "evalue": "True",
          "traceback": [
            "An exception has occurred, use %tb to see the full traceback.\n",
            "\u001b[0;31mSystemExit\u001b[0m\u001b[0;31m:\u001b[0m True\n"
          ]
        },
        {
          "output_type": "stream",
          "name": "stderr",
          "text": [
            "/usr/local/lib/python3.10/dist-packages/IPython/core/interactiveshell.py:3561: UserWarning: To exit: use 'exit', 'quit', or Ctrl-D.\n",
            "  warn(\"To exit: use 'exit', 'quit', or Ctrl-D.\", stacklevel=1)\n"
          ]
        }
      ]
    }
  ]
}