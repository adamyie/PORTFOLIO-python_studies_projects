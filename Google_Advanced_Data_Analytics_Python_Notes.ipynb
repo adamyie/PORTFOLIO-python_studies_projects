{
  "cells": [
    {
      "cell_type": "markdown",
      "metadata": {
        "id": "view-in-github",
        "colab_type": "text"
      },
      "source": [
        "<a href=\"https://colab.research.google.com/github/adamyie/python_studies/blob/main/Google_Advanced_Data_Analytics_Python_Notes.ipynb\" target=\"_parent\"><img src=\"https://colab.research.google.com/assets/colab-badge.svg\" alt=\"Open In Colab\"/></a>"
      ]
    },
    {
      "cell_type": "markdown",
      "id": "a5d2c4fe-cfb8-459a-bfa6-fcdbc88e4986",
      "metadata": {
        "id": "a5d2c4fe-cfb8-459a-bfa6-fcdbc88e4986"
      },
      "source": [
        "# SECTION 1\n",
        "### print x from my_list"
      ]
    },
    {
      "cell_type": "code",
      "execution_count": null,
      "id": "70503c47-6e60-42e3-99b3-f4551a2c7075",
      "metadata": {
        "scrolled": true,
        "id": "70503c47-6e60-42e3-99b3-f4551a2c7075",
        "outputId": "34aaf725-3699-40e9-e8a3-f514c1be26e3"
      },
      "outputs": [
        {
          "name": "stdout",
          "output_type": "stream",
          "text": [
            "lamborghini\n",
            "ferrari\n",
            "mclaren\n"
          ]
        }
      ],
      "source": [
        "my_list = [\"lamborghini\", \"ferrari\", \"mclaren\"]\n",
        "for x in my_list:\n",
        "    print(x)\n",
        ""
      ]
    },
    {
      "cell_type": "code",
      "execution_count": null,
      "id": "1d2ace4d-0110-48b7-bfa6-d2eb6e6a66ea",
      "metadata": {
        "id": "1d2ace4d-0110-48b7-bfa6-d2eb6e6a66ea",
        "outputId": "d032ec98-5725-4872-daef-14b8e884c44d"
      },
      "outputs": [
        {
          "name": "stdout",
          "output_type": "stream",
          "text": [
            "hocus pocus\n"
          ]
        }
      ],
      "source": [
        "magic = \"hocus pocus\"\n",
        "print(magic)"
      ]
    },
    {
      "cell_type": "markdown",
      "id": "3695a368-634b-48d2-bac5-69d27e3306e9",
      "metadata": {
        "id": "3695a368-634b-48d2-bac5-69d27e3306e9"
      },
      "source": [
        "# SECTION 2\n",
        "### create a Spaceship class"
      ]
    },
    {
      "cell_type": "code",
      "execution_count": null,
      "id": "5a0a6463-561f-42d3-9516-d1d3bb0a1c96",
      "metadata": {
        "id": "5a0a6463-561f-42d3-9516-d1d3bb0a1c96"
      },
      "outputs": [],
      "source": [
        "import random\n",
        "class Spaceship:\n",
        "    # Class attribute\n",
        "    tractor_beam = 'off'\n",
        "\n",
        "    # Instance attributes\n",
        "    def __init__(self, name, kind):\n",
        "        self.name = name\n",
        "        self.kind = kind\n",
        "        self.speed = None\n",
        "        self.hull = self.hull\n",
        "\n",
        "    # Instance methods\n",
        "    def warp(self, warp):\n",
        "        self.speed = warp\n",
        "        print(f'Warp {warp}, engage!')\n",
        "\n",
        "    def tractor(self):\n",
        "        if self.tractor_beam == 'off':\n",
        "            self.tractor_beam = 'on'\n",
        "            print('Tractor beam on.')\n",
        "        else:\n",
        "            self.tractor_beam == 'off'\n",
        "            print('Tractor beam off.')\n",
        "\n",
        "    def hull(self, damage):\n",
        "        self.hull = 10000\n",
        "        self.struck = self.hull - damage\n",
        "        # subtract damage from current health\n",
        "        print(f'We got hit, {hull} shields left!')"
      ]
    },
    {
      "cell_type": "code",
      "execution_count": null,
      "id": "f3c36452-6456-44b7-80f5-f32780527406",
      "metadata": {
        "id": "f3c36452-6456-44b7-80f5-f32780527406",
        "outputId": "89ee06f7-6b50-4a1c-f730-70375b317dbb"
      },
      "outputs": [
        {
          "name": "stdout",
          "output_type": "stream",
          "text": [
            "Atlantis\n",
            "1st Class Battleship\n",
            "off\n",
            "<bound method Spaceship.hull of <__main__.Spaceship object at 0x1058540b0>>\n"
          ]
        }
      ],
      "source": [
        "# Create an instance of the Spaceship class (i.e. \"instantiate\")\n",
        "ship = Spaceship('Atlantis', '1st Class Battleship')\n",
        "\n",
        "# Check ship's name\n",
        "print(ship.name)\n",
        "\n",
        "# Check what kind of ship it is\n",
        "print(ship.kind)\n",
        "\n",
        "# Check tractor beam status\n",
        "print(ship.tractor_beam)\n",
        "\n",
        "# Check health status\n",
        "print(ship.hull)"
      ]
    },
    {
      "cell_type": "code",
      "execution_count": null,
      "id": "04443a14-89fb-4ebf-bf07-b8fc71a4ca85",
      "metadata": {
        "id": "04443a14-89fb-4ebf-bf07-b8fc71a4ca85",
        "outputId": "46e4d5c6-12bf-41a2-97d5-6e856aeac15f"
      },
      "outputs": [
        {
          "name": "stdout",
          "output_type": "stream",
          "text": [
            "Warp 7, engage!\n"
          ]
        },
        {
          "data": {
            "text/plain": [
              "7"
            ]
          },
          "execution_count": 8,
          "metadata": {},
          "output_type": "execute_result"
        }
      ],
      "source": [
        "# Set warp speed\n",
        "ship.warp(7)\n",
        "\n",
        "# Check speed\n",
        "ship.speed"
      ]
    },
    {
      "cell_type": "code",
      "execution_count": null,
      "id": "c1d14a8b-50aa-49af-a53e-d79f88ea984f",
      "metadata": {
        "scrolled": true,
        "id": "c1d14a8b-50aa-49af-a53e-d79f88ea984f",
        "outputId": "bfa75238-1587-4752-e215-c851002e9c55"
      },
      "outputs": [
        {
          "name": "stdout",
          "output_type": "stream",
          "text": [
            "Tractor beam on.\n",
            "on\n"
          ]
        }
      ],
      "source": [
        "# Toggle tractor beam\n",
        "ship.tractor()\n",
        "\n",
        "# Check tractor beam status\n",
        "print(ship.tractor_beam)"
      ]
    },
    {
      "cell_type": "code",
      "execution_count": null,
      "id": "39f38566-d0f1-46da-8084-290b1ea6a680",
      "metadata": {
        "id": "39f38566-d0f1-46da-8084-290b1ea6a680",
        "outputId": "7a9bd74f-07a9-4ec9-bb65-21ef1a419e30"
      },
      "outputs": [
        {
          "ename": "TypeError",
          "evalue": "'int' object is not callable",
          "output_type": "error",
          "traceback": [
            "\u001b[0;31m---------------------------------------------------------------------------\u001b[0m",
            "\u001b[0;31mTypeError\u001b[0m                                 Traceback (most recent call last)",
            "Cell \u001b[0;32mIn[88], line 3\u001b[0m\n\u001b[1;32m      1\u001b[0m \u001b[38;5;28;01mimport\u001b[39;00m \u001b[38;5;21;01mrandom\u001b[39;00m\n\u001b[1;32m      2\u001b[0m \u001b[38;5;66;03m# Ship got hit by a rogue missile\u001b[39;00m\n\u001b[0;32m----> 3\u001b[0m \u001b[43mship\u001b[49m\u001b[38;5;241;43m.\u001b[39;49m\u001b[43mhull\u001b[49m\u001b[43m(\u001b[49m\u001b[43mrandom\u001b[49m\u001b[38;5;241;43m.\u001b[39;49m\u001b[43mrandint\u001b[49m\u001b[43m(\u001b[49m\u001b[38;5;241;43m1\u001b[39;49m\u001b[43m,\u001b[49m\u001b[43m \u001b[49m\u001b[38;5;241;43m100\u001b[39;49m\u001b[43m)\u001b[49m\u001b[43m)\u001b[49m\n",
            "\u001b[0;31mTypeError\u001b[0m: 'int' object is not callable"
          ]
        }
      ],
      "source": [
        "import random\n",
        "# Ship got hit by a rogue missile\n",
        "ship.hull(random.randint(1, 100))"
      ]
    },
    {
      "cell_type": "markdown",
      "id": "ea268d09-64dc-4bbd-b473-250f0c9cc7d5",
      "metadata": {
        "id": "ea268d09-64dc-4bbd-b473-250f0c9cc7d5"
      },
      "source": [
        "# Section 3\n",
        "### Expression Assignment"
      ]
    },
    {
      "cell_type": "code",
      "execution_count": null,
      "id": "839ef930-538d-4af9-b00f-4578ae77387d",
      "metadata": {
        "id": "839ef930-538d-4af9-b00f-4578ae77387d",
        "outputId": "ffe25062-3fdc-44a3-8767-7a6b5cb803c1"
      },
      "outputs": [
        {
          "name": "stdout",
          "output_type": "stream",
          "text": [
            "35\n"
          ]
        },
        {
          "data": {
            "text/plain": [
              "'35'"
            ]
          },
          "execution_count": 64,
          "metadata": {},
          "output_type": "execute_result"
        }
      ],
      "source": [
        "# Assign the starting XI of a football team into a variable called 'age_list'\n",
        "age_list = [35, 21, 25, 22, 17, 16, 18, 17, 28, 20, 32]\n",
        "\n",
        "# Asign the new variable as the max age in the list\n",
        "max_age = max(age_list)\n",
        "\n",
        "# print the variable\n",
        "print(max_age)\n",
        "\n",
        "# Convert the new variable as str type\n",
        "max_age = str(max(age_list))\n",
        "max_age"
      ]
    },
    {
      "cell_type": "markdown",
      "id": "e023aede-b054-4162-ab5f-ecdc8f0435f9",
      "metadata": {
        "id": "e023aede-b054-4162-ab5f-ecdc8f0435f9"
      },
      "source": [
        "# Section 4\n",
        "### Python syntaxes"
      ]
    },
    {
      "cell_type": "code",
      "execution_count": null,
      "id": "a024889d-7fd8-4b05-b5ff-5e702bdfb18c",
      "metadata": {
        "id": "a024889d-7fd8-4b05-b5ff-5e702bdfb18c",
        "outputId": "35ec1f73-74b8-433e-9805-0f05f66c0ca5"
      },
      "outputs": [
        {
          "data": {
            "text/plain": [
              "23.88888888888889"
            ]
          },
          "execution_count": 17,
          "metadata": {},
          "output_type": "execute_result"
        }
      ],
      "source": [
        "# example of a function\n",
        "def to_celsius(x):\n",
        "    '''Convert Fahrenheit to Celsius'''\n",
        "    return (x-32) * 5/9\n",
        "\n",
        "to_celsius(75)"
      ]
    },
    {
      "cell_type": "code",
      "execution_count": null,
      "id": "04fac0ca-e7fb-4703-bd79-bea5f1d83ef3",
      "metadata": {
        "id": "04fac0ca-e7fb-4703-bd79-bea5f1d83ef3",
        "outputId": "1fc46f91-25c4-4661-c2dd-c7fdb5fc45a0"
      },
      "outputs": [
        {
          "name": "stdout",
          "output_type": "stream",
          "text": [
            "Number is negative.\n"
          ]
        }
      ],
      "source": [
        "# example of a conditional statement\n",
        "number = -4\n",
        "\n",
        "if number > 0:\n",
        "    print('Number is positive.')\n",
        "elif number == 0:\n",
        "    print('Number is zero.')\n",
        "else:\n",
        "    print('Number is negative.')"
      ]
    },
    {
      "cell_type": "code",
      "execution_count": null,
      "id": "68fe6d8d-f438-4ed8-9766-339f0b659650",
      "metadata": {
        "id": "68fe6d8d-f438-4ed8-9766-339f0b659650",
        "outputId": "b6637fba-5770-4ecb-a216-d9a042ba102a"
      },
      "outputs": [
        {
          "name": "stdout",
          "output_type": "stream",
          "text": [
            "True\n"
          ]
        }
      ],
      "source": [
        "print(33 > 12 or 9 < 7)"
      ]
    },
    {
      "cell_type": "markdown",
      "id": "f17dcf47-46b9-4546-9797-3e16f71ea820",
      "metadata": {
        "id": "f17dcf47-46b9-4546-9797-3e16f71ea820"
      },
      "source": [
        "# Section 5\n",
        "### Python Functions"
      ]
    },
    {
      "cell_type": "code",
      "execution_count": null,
      "id": "22d2d172-c4c7-44e2-bae6-f160fa4c6d6e",
      "metadata": {
        "id": "22d2d172-c4c7-44e2-bae6-f160fa4c6d6e",
        "outputId": "af68a505-cbb7-4d17-cf0d-1d8f6c5f4cf6"
      },
      "outputs": [
        {
          "name": "stdout",
          "output_type": "stream",
          "text": [
            "Welcome, Rebecca !\n",
            "You are part of the team!\n"
          ]
        }
      ],
      "source": [
        "def greeting(name):\n",
        "    # In here greeting will be the defined function and 'name' is the parameter\n",
        "    print('Welcome, ' + name + ' !')\n",
        "    print('You are part of the team!')\n",
        "\n",
        "greeting('Rebecca')"
      ]
    },
    {
      "cell_type": "code",
      "execution_count": null,
      "id": "b016617c-ac90-4bda-b476-6e43c6c8d261",
      "metadata": {
        "id": "b016617c-ac90-4bda-b476-6e43c6c8d261",
        "outputId": "f9fbd202-c6b6-422d-f766-bc42d212e114"
      },
      "outputs": [
        {
          "name": "stdout",
          "output_type": "stream",
          "text": [
            "32.0\n"
          ]
        }
      ],
      "source": [
        "def area_triangle(base, height):\n",
        "    # here we use the return function to allow two arguments in the parameter\n",
        "    return base * height / 2\n",
        "\n",
        "# find the total area of two triangles using the newly defined function\n",
        "area_a = area_triangle(5, 8)\n",
        "area_b = area_triangle(4, 6)\n",
        "total_area = area_a + area_b\n",
        "\n",
        "print(total_area)"
      ]
    },
    {
      "cell_type": "code",
      "execution_count": null,
      "id": "c346b3d1-d0cc-4ad0-885c-3772971a70f4",
      "metadata": {
        "id": "c346b3d1-d0cc-4ad0-885c-3772971a70f4",
        "outputId": "bcec0463-df97-4f71-d4a0-0dff5f64b71e"
      },
      "outputs": [
        {
          "name": "stdout",
          "output_type": "stream",
          "text": [
            "17135 seconds\n"
          ]
        }
      ],
      "source": [
        "def get_seconds(hours, minutes, seconds):\n",
        "    # here we have 3 different arguments in the parameter\n",
        "    total_seconds = 3600 * hours + 60 * minutes + seconds\n",
        "    return total_seconds\n",
        "\n",
        "# calculate the time\n",
        "seconds_a = get_seconds(2, 30, 30)\n",
        "seconds_b = get_seconds(2, 15, 5)\n",
        "total_time = seconds_a + seconds_b\n",
        "\n",
        "print(total_time, 'seconds')"
      ]
    },
    {
      "cell_type": "code",
      "execution_count": null,
      "id": "e7fdbf78-f1ee-4780-ba72-74833e312b98",
      "metadata": {
        "id": "e7fdbf78-f1ee-4780-ba72-74833e312b98",
        "outputId": "fb9c6065-6523-422d-8a26-78788604681e"
      },
      "outputs": [
        {
          "name": "stdout",
          "output_type": "stream",
          "text": [
            "HelloPeter Parker, Your lucky number is 24\n",
            "Hello Mary Jane, Your lucky number is 18\n"
          ]
        }
      ],
      "source": [
        "# this is an example of a duplicated unreusable function\n",
        "name = 'Peter Parker'\n",
        "number = len(name) * 2\n",
        "print(\"Hello\" + name +\", Your lucky number is \" + str(number))\n",
        "\n",
        "name = 'Mary Jane'\n",
        "number = len(name) * 2\n",
        "print(\"Hello \" + name +\", Your lucky number is \" + str(number))"
      ]
    },
    {
      "cell_type": "code",
      "execution_count": null,
      "id": "2e6281c5-af02-4b77-8a07-b8fdd1d8793f",
      "metadata": {
        "id": "2e6281c5-af02-4b77-8a07-b8fdd1d8793f",
        "outputId": "aef4b1d0-0e42-488b-b873-569beffaf1b7"
      },
      "outputs": [
        {
          "name": "stdout",
          "output_type": "stream",
          "text": [
            "Hello Harry Osborne, your lucky number is 26\n"
          ]
        }
      ],
      "source": [
        "# this is a reusable and well defined function\n",
        "def lucky_number(name):\n",
        "    number = len(name) * 2\n",
        "    print(\"Hello \" + name +\", your lucky number is \" + str(number))\n",
        "\n",
        "lucky_number(\"Harry Osborne\")"
      ]
    },
    {
      "cell_type": "code",
      "execution_count": null,
      "id": "7571dcfe-78e9-4436-b8ff-39e01b503394",
      "metadata": {
        "id": "7571dcfe-78e9-4436-b8ff-39e01b503394",
        "outputId": "aa40f307-5117-41a0-c54b-9152d5cd9bf5"
      },
      "outputs": [
        {
          "name": "stdin",
          "output_type": "stream",
          "text": [
            "5 9\n"
          ]
        },
        {
          "name": "stdout",
          "output_type": "stream",
          "text": [
            "1\n"
          ]
        }
      ],
      "source": [
        "# here is an example of a incomprehensive code\n",
        "a = input(5); y = 1\n",
        "\n",
        "for i in range(int(a)):\n",
        "    y = y * (i + 1)\n",
        "    print(y)\n",
        "    break"
      ]
    },
    {
      "cell_type": "code",
      "execution_count": null,
      "id": "6839076a-3dbc-46dc-bd54-ca59848b4003",
      "metadata": {
        "id": "6839076a-3dbc-46dc-bd54-ca59848b4003",
        "outputId": "1676892a-7c37-4724-a846-e4bb8e38850a"
      },
      "outputs": [
        {
          "name": "stdin",
          "output_type": "stream",
          "text": [
            "1 2\n"
          ]
        },
        {
          "name": "stdout",
          "output_type": "stream",
          "text": [
            "2\n"
          ]
        }
      ],
      "source": [
        "# now, here is a more well defined code\n",
        "def factorial(n):\n",
        "    # Exclude 0 as product, start with 1\n",
        "    y = 1\n",
        "    for i in range(int(n)):\n",
        "        y = y * (i + 1)\n",
        "    return y\n",
        "\n",
        "# Enter a numerical value between 1 - 9 in the command line that appears\n",
        "input_num = input(1)\n",
        "\n",
        "# Apply a factorial function to an integer input\n",
        "print(factorial(input_num))"
      ]
    },
    {
      "cell_type": "code",
      "execution_count": null,
      "id": "4cbee7df-3937-4093-8651-086be8805f19",
      "metadata": {
        "id": "4cbee7df-3937-4093-8651-086be8805f19",
        "outputId": "ebadf4c3-03b5-4734-a4e5-08cc0a81057e"
      },
      "outputs": [
        {
          "data": {
            "text/plain": [
              "1190.0"
            ]
          },
          "execution_count": 46,
          "metadata": {},
          "output_type": "execute_result"
        }
      ],
      "source": [
        "def seed_calculator(fountain_side, grass_width):\n",
        "    '''\n",
        "    Calculate the number of kilograms of grass seed needed for a border around a square fountain.\n",
        "\n",
        "        Parameters:\n",
        "            fountain_side(num): length of 1 sude of fountain in meters\n",
        "            grass_width (num): width of grass border in meters\n",
        "\n",
        "        Returns:\n",
        "            seed (float): amount of seed (kg) needed for\n",
        "    '''\n",
        "    # Area of fountain\n",
        "    fountain_area = fountain_side**2\n",
        "    # Total area\n",
        "    total_area = (fountain_side + 2 * grass_width) ** 2\n",
        "    # Area of grass border\n",
        "    grass_area = total_area - fountain_area\n",
        "    # Amount of seed needed (35 g/sq.m)\n",
        "    seed = grass_area * 35\n",
        "    # Convert to kg\n",
        "    seed = seed / 1000\n",
        "\n",
        "    return seed\n",
        "\n",
        "seed_calculator(15, 85)"
      ]
    },
    {
      "cell_type": "code",
      "execution_count": null,
      "id": "094b0d4a-f464-4353-870a-dd754b5058ad",
      "metadata": {
        "id": "094b0d4a-f464-4353-870a-dd754b5058ad"
      },
      "outputs": [],
      "source": [
        "input(write your message)"
      ]
    },
    {
      "cell_type": "markdown",
      "id": "395c400f-7b6b-4806-9a16-a59560a51bd2",
      "metadata": {
        "id": "395c400f-7b6b-4806-9a16-a59560a51bd2"
      },
      "source": [
        "*THIS IS A NOTE*"
      ]
    },
    {
      "cell_type": "markdown",
      "id": "874c0810-2357-4f60-8fe3-fe7cd3440089",
      "metadata": {
        "id": "874c0810-2357-4f60-8fe3-fe7cd3440089"
      },
      "source": [
        "# **Section 6**\n",
        "### Conditional Statements"
      ]
    },
    {
      "cell_type": "code",
      "execution_count": null,
      "id": "40bb104a-3fc0-4190-8e06-4b668e5c6bc9",
      "metadata": {
        "id": "40bb104a-3fc0-4190-8e06-4b668e5c6bc9",
        "outputId": "ebc09bc9-160a-4ba9-dc3e-7e5c18900b34"
      },
      "outputs": [
        {
          "name": "stdout",
          "output_type": "stream",
          "text": [
            "True\n"
          ]
        }
      ],
      "source": [
        "x = 3\n",
        "number = [3, 6, 8, 9]\n",
        "print(x < len(number))"
      ]
    },
    {
      "cell_type": "code",
      "execution_count": null,
      "id": "aa56fbed-4e68-4c52-a6d2-66e987d52de8",
      "metadata": {
        "id": "aa56fbed-4e68-4c52-a6d2-66e987d52de8",
        "outputId": "ee92534b-fb34-49d9-d618-d9f7d1ff0fcc"
      },
      "outputs": [
        {
          "name": "stdout",
          "output_type": "stream",
          "text": [
            "True\n"
          ]
        }
      ],
      "source": [
        "print(x > len(number) or x == min(number))"
      ]
    },
    {
      "cell_type": "code",
      "execution_count": null,
      "id": "62d67ab5-e6ca-4d13-a16e-37b78d65ab63",
      "metadata": {
        "id": "62d67ab5-e6ca-4d13-a16e-37b78d65ab63"
      },
      "outputs": [],
      "source": [
        "def hint_username(username):\n",
        "    if len(username) < 8:\n",
        "        TypeError(\"Invalid username. Must be at least 8 characters long.\")\n",
        "    else:\n",
        "        print(\"Valid username.\")\n",
        "# ELSE is a reserved keyword that executes whe preceding conditions evaluate as FALSE\n",
        "# The ELSE statement lets us set a piece of code to run only when the condition of the IF statement is False"
      ]
    },
    {
      "cell_type": "code",
      "execution_count": null,
      "id": "1713817f-8ebe-468b-8472-061ca27e5f91",
      "metadata": {
        "id": "1713817f-8ebe-468b-8472-061ca27e5f91",
        "outputId": "f4f0f4e7-be11-4bf4-db10-c7a523763dea"
      },
      "outputs": [
        {
          "name": "stdout",
          "output_type": "stream",
          "text": [
            "1\n",
            "2\n",
            "0\n"
          ]
        }
      ],
      "source": [
        "x = 5 % 2\n",
        "y = 11 % 3\n",
        "print(x)\n",
        "print(y)\n",
        "\n",
        "# However even numbers are all multiples of two\n",
        "# wWhich means the remainder will always return 0\n",
        "z = 100 % 2\n",
        "print(z)"
      ]
    },
    {
      "cell_type": "code",
      "execution_count": null,
      "id": "5b6f3d72-a45c-4025-893b-49d7d38324b1",
      "metadata": {
        "id": "5b6f3d72-a45c-4025-893b-49d7d38324b1"
      },
      "outputs": [],
      "source": [
        "def is_even(number):\n",
        "    if number % 2 == 0:\n",
        "        return True\n",
        "    return False"
      ]
    },
    {
      "cell_type": "code",
      "execution_count": null,
      "id": "a5e26df5-9f71-46f0-8299-d242c211af6f",
      "metadata": {
        "id": "a5e26df5-9f71-46f0-8299-d242c211af6f",
        "outputId": "5104eb93-8da7-4d03-e635-595bec8a967b"
      },
      "outputs": [
        {
          "name": "stdout",
          "output_type": "stream",
          "text": [
            "False\n",
            "True\n"
          ]
        }
      ],
      "source": [
        "x = is_even(9)\n",
        "y = is_even(8)\n",
        "print(x)\n",
        "print(y)"
      ]
    },
    {
      "cell_type": "code",
      "execution_count": null,
      "id": "8bb4d1e0-7979-4fd3-bbba-a8075de280c1",
      "metadata": {
        "id": "8bb4d1e0-7979-4fd3-bbba-a8075de280c1"
      },
      "outputs": [],
      "source": [
        "def hint_username(username):\n",
        "    if len(username) < 8:\n",
        "        print(\"Invalid username. Must be at least 8 characters long.\")\n",
        "    else:\n",
        "        if len(username) > 15:\n",
        "           print(\"Invalid username. Must be less than 15 characters long.\")\n",
        "        else:\n",
        "            print(\"Username is valid.\")"
      ]
    },
    {
      "cell_type": "code",
      "execution_count": null,
      "id": "575f9d46-9229-4f84-bb91-7eedf97ecf5b",
      "metadata": {
        "id": "575f9d46-9229-4f84-bb91-7eedf97ecf5b"
      },
      "outputs": [],
      "source": []
    }
  ],
  "metadata": {
    "kernelspec": {
      "display_name": "Python 3 (ipykernel)",
      "language": "python",
      "name": "python3"
    },
    "language_info": {
      "codemirror_mode": {
        "name": "ipython",
        "version": 3
      },
      "file_extension": ".py",
      "mimetype": "text/x-python",
      "name": "python",
      "nbconvert_exporter": "python",
      "pygments_lexer": "ipython3",
      "version": "3.12.1"
    },
    "colab": {
      "provenance": [],
      "include_colab_link": true
    }
  },
  "nbformat": 4,
  "nbformat_minor": 5
}